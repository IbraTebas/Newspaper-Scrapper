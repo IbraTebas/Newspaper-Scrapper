{
 "cells": [
  {
   "cell_type": "code",
   "execution_count": 24,
   "metadata": {},
   "outputs": [],
   "source": [
    "dict_month = {'Jan': \"01\", 'Feb':'02', 'Mar':'03','Apr': '04','May':'05', 'Jun':'06', 'Jul':'07', 'Aug':'08', 'Sep':'09', 'Oct':'10', 'Nov':'11', 'Dic':'12'}\n",
    "def format_date_elpais(date_elpais):\n",
    "    day=date_elpais[0:2]\n",
    "    month=dict_month[date_elpais[3:6]]\n",
    "    year= date_elpais[7:12]   \n",
    "    result='{}-{}-{}'.format(day, month, year)\n",
    "    return result"
   ]
  },
  {
   "cell_type": "code",
   "execution_count": 37,
   "metadata": {},
   "outputs": [],
   "source": [
    "import xml.etree.ElementTree as ET\n",
    "class News:\n",
    "\n",
    "    def __init__(self):\n",
    "        self.title = ''\n",
    "        self.description = ''\n",
    "        self.day=''\n",
    "        self.time=''\n",
    "        self.link=''\n",
    "        self.subtitle=''    \n",
    "       \n",
    "    \n",
    "class XMLParser:\n",
    "\n",
    "    def __init__(self, path):\n",
    "        self.doc = ET.parse(path)\n",
    "        self.root = self.doc.getroot()\n",
    "\n",
    "    def parse(self):\n",
    "        parsing = []\n",
    "        items = self.root.find('channel').findall('item')\n",
    "        for child in items:\n",
    "            new = News()\n",
    "            new.title = child.find('title').text\n",
    "            try:\n",
    "                new.description = child.find('description').text.replace(\"&nbsp;\", \"\")               \n",
    "            except:\n",
    "                pass\n",
    "            new.day=child.find('pubDate').text[5:16] \n",
    "            new.day=format_date_elpais(new.day)\n",
    "            new.time= child.find('pubDate').text[17:22]\n",
    "            new.link=child.find('link').text\n",
    "            try:\n",
    "                new.subtitle=child.find('subtitle').text\n",
    "                new.subtitle=new.subtitle.capitalize()\n",
    "            except:\n",
    "                pass\n",
    "            parsing.append(new)\n",
    "        return parsing\n",
    "\n",
    "\n",
    "# def main():\n",
    "#     print('starting class example usage ...')\n",
    "#     parser = XMLParser('Elpais-03-01-2021-22hs45min.xml')\n",
    "#     news = parser.parse()           #si le aplico list a news tengo el objeto buscado\n",
    "#     for n in news:\n",
    "#         print(n.title)\n",
    "#     print('process finished')\n",
    "\n",
    "\n",
    "# if __name__ == '__main__':\n",
    "#     main()\n",
    "\n",
    "   # Sun, 03 Jan 2021 07:00:00\n",
    " #   lst=['title', 'description', 'pubDate', 'link', 'subtitle', 'category','categorySlug', 'parentCategorySlug', 'articleSlug', 'author', 'imageCaption']"
   ]
  },
  {
   "cell_type": "code",
   "execution_count": 38,
   "metadata": {},
   "outputs": [],
   "source": [
    "News=XMLParser('Elpais-03-01-2021-22hs45min.xml').parse()"
   ]
  },
  {
   "cell_type": "code",
   "execution_count": 39,
   "metadata": {},
   "outputs": [
    {
     "data": {
      "text/plain": [
       "'Movimientos de arena'"
      ]
     },
     "execution_count": 39,
     "metadata": {},
     "output_type": "execute_result"
    }
   ],
   "source": [
    "News[0].subtitle"
   ]
  },
  {
   "cell_type": "code",
   "execution_count": null,
   "metadata": {},
   "outputs": [],
   "source": []
  }
 ],
 "metadata": {
  "kernelspec": {
   "display_name": "Python 3",
   "language": "python",
   "name": "python3"
  },
  "language_info": {
   "codemirror_mode": {
    "name": "ipython",
    "version": 3
   },
   "file_extension": ".py",
   "mimetype": "text/x-python",
   "name": "python",
   "nbconvert_exporter": "python",
   "pygments_lexer": "ipython3",
   "version": "3.7.1"
  }
 },
 "nbformat": 4,
 "nbformat_minor": 4
}
