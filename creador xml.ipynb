{
 "cells": [
  {
   "cell_type": "code",
   "execution_count": 3,
   "metadata": {},
   "outputs": [],
   "source": [
    "import requests\n",
    "from datetime import datetime\n",
    "import pandas as pd"
   ]
  },
  {
   "cell_type": "code",
   "execution_count": 4,
   "metadata": {},
   "outputs": [],
   "source": [
    "url_elpais='https://www.elpais.com.uy/rss/'\n",
    "url_brecha='https://brecha.com.uy/feed/'  \n",
    "url_elobservador=\"https://www.elobservador.com.uy/rss/elobservador.xml\"\n",
    "url_ladiaria='https://ladiaria.com.uy/feeds/articulos/'"
   ]
  },
  {
   "cell_type": "code",
   "execution_count": 5,
   "metadata": {},
   "outputs": [],
   "source": [
    "def write_feeds():\n",
    "    Today=\"{}-{}-{}\".format(str(pd.to_datetime(\"today\").date())[8:10], str(pd.to_datetime(\"today\").date())[5:7], str(pd.to_datetime(\"today\").date())[0:4])\n",
    "    Now=str(pd.to_datetime(\"today\").time())[0:5]\n",
    "    response = requests.get(url_elpais)\n",
    "    with open('Elpais-{}-{}hs{}min.xml'.format(Today,Now[0:2], Now[3:5]),  'wb') as file:\n",
    "        file.write(response.content)\n",
    "    response = requests.get(url_brecha)\n",
    "    with open('Brecha-{}-{}hs{}min.xml'.format(Today,Now[0:2], Now[3:5]),  'wb') as file:\n",
    "        file.write(response.content)\n",
    "    response = requests.get(url_elobservador)\n",
    "    with open('elobservador-{}-{}hs{}min.xml'.format(Today,Now[0:2], Now[3:5]),  'wb') as file:\n",
    "        file.write(response.content)\n",
    "    response = requests.get(url_ladiaria)\n",
    "    with open('ladiaria-{}-{}hs{}min.xml'.format(Today,Now[0:2], Now[3:5]),  'wb') as file:\n",
    "        file.write(response.content)\n",
    "        "
   ]
  },
  {
   "cell_type": "code",
   "execution_count": 6,
   "metadata": {},
   "outputs": [],
   "source": [
    "write_feeds()"
   ]
  },
  {
   "cell_type": "code",
   "execution_count": null,
   "metadata": {},
   "outputs": [],
   "source": []
  }
 ],
 "metadata": {
  "kernelspec": {
   "display_name": "Python 3",
   "language": "python",
   "name": "python3"
  },
  "language_info": {
   "codemirror_mode": {
    "name": "ipython",
    "version": 3
   },
   "file_extension": ".py",
   "mimetype": "text/x-python",
   "name": "python",
   "nbconvert_exporter": "python",
   "pygments_lexer": "ipython3",
   "version": "3.7.1"
  }
 },
 "nbformat": 4,
 "nbformat_minor": 4
}
